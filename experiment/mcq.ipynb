{
 "cells": [
  {
   "cell_type": "code",
   "execution_count": 1,
   "id": "c9f55a1f",
   "metadata": {},
   "outputs": [],
   "source": [
    "import os\n",
    "import json\n",
    "import pandas as pd\n",
    "import traceback"
   ]
  },
  {
   "cell_type": "code",
   "execution_count": null,
   "id": "dde9ad1f",
   "metadata": {},
   "outputs": [],
   "source": [
    "from langchain.chat_models import ChatOpenAI\n"
   ]
  },
  {
   "cell_type": "code",
   "execution_count": 5,
   "id": "8e5a2b41",
   "metadata": {},
   "outputs": [
    {
     "data": {
      "text/plain": [
       "True"
      ]
     },
     "execution_count": 5,
     "metadata": {},
     "output_type": "execute_result"
    }
   ],
   "source": [
    "from dotenv import load_dotenv\n",
    "load_dotenv()"
   ]
  },
  {
   "cell_type": "code",
   "execution_count": null,
   "id": "33f875a0",
   "metadata": {},
   "outputs": [],
   "source": [
    "# bhai tu scene ye hai first method to get the key is kai ap nia apne enivorment varaible me set kar de key kai name sai and os.getenv('OPENAI_API_KEY') use kar le and we will get the key 2nd method is that i use terminal to set or export the key and the command for that is export OPENAI_API_KEY and then the key and u can use it then and 3rd method is i can make a file called .env and in that file i can write the key like this OPENAI_API_KEY=your_key_here and then i can use python-dotenv to load that file and get the key "
   ]
  },
  {
   "cell_type": "code",
   "execution_count": 4,
   "id": "920250e0",
   "metadata": {},
   "outputs": [],
   "source": [
    "# llm = ChatOpenAI(openai_api_key=os.getenv(\"OPENAI_API_KEY\"), model=\"gpt-3.5-turbo\", temperature=0.5)\n",
    "# yhn openai api key meray pass hai nahi bcz it is not free thus what i doing i am writting this code in comment format so that i know the syntax of this code and i can use it later when i have the key "
   ]
  },
  {
   "cell_type": "code",
   "execution_count": 6,
   "id": "8f0a8df3",
   "metadata": {},
   "outputs": [],
   "source": [
    "# llm"
   ]
  },
  {
   "cell_type": "code",
   "execution_count": 7,
   "id": "cd4b158d",
   "metadata": {},
   "outputs": [],
   "source": [
    "from langchain.llms import OpenAI\n",
    "from langchain.chains import LLMChain\n",
    "from langchain.prompts import PromptTemplate\n",
    "from langchain.chains import SequentialChain\n",
    "from langchain.callbacks import get_openai_callback\n",
    "import PyPDF2"
   ]
  },
  {
   "cell_type": "code",
   "execution_count": 9,
   "id": "125739a6",
   "metadata": {},
   "outputs": [],
   "source": [
    "#bro one more thing response jason kia hai ye wo chex hai kai ap ko kis format mai chaiaye tu wo yhn aik varaible ap banaoo ge reponse_jason kai name sai and wo hoga kia aus varaible mai format of the mcq bz hm nai template mai laikha hai kai reponse_jason ki tarahn i need your response  so samjhe hamme format bhe batanahoga"
   ]
  },
  {
   "cell_type": "code",
   "execution_count": 10,
   "id": "b05f2819",
   "metadata": {},
   "outputs": [],
   "source": [
    "TEMPLATE=\"\"\"\n",
    "Text: {text}\n",
    "you are an expert MCQ maker.Given the above text it is your job to create a quiz of {number} multiple choice questions for {subject} student in {tone} tone.Make sure the questions are not repeated and check all the questions to be conforming the text as well.Make sure to format your response like RESPONSE_JSON below and use it as a guide.Ensure to make {number} MCQs\n",
    "### RESPONSE_JSON\n",
    "{response_json}\n",
    "\"\"\""
   ]
  },
  {
   "cell_type": "code",
   "execution_count": 11,
   "id": "5b804fff",
   "metadata": {},
   "outputs": [],
   "source": [
    "quiz_generator_prompt = PromptTemplate(\n",
    "    input_variables=[\"text\",\"number\",\"subject\",\"tone\",\"response_json    \"],\n",
    "    template=TEMPLATE\n",
    ")\n",
    "#we have 5 varaible in input varaible "
   ]
  },
  {
   "cell_type": "code",
   "execution_count": 12,
   "id": "028c05d7",
   "metadata": {},
   "outputs": [],
   "source": [
    "# we use llm chain to connect the sevveral componene and here we have only 2 component one is llm and other is prompt template "
   ]
  },
  {
   "cell_type": "code",
   "execution_count": 13,
   "id": "924f8bc0",
   "metadata": {},
   "outputs": [],
   "source": [
    "# quiz_chain = LLMChain(llm=llm,prompt=quiz_generator_prompt,output_key=\"quiz\",verbose=True)"
   ]
  },
  {
   "cell_type": "code",
   "execution_count": 14,
   "id": "b5f85663",
   "metadata": {},
   "outputs": [],
   "source": [
    "# for the correct answer we have another template also we will use that template to get the correct answer from the llm\n",
    "TEMPLATE=\"\"\"\n",
    "you are an expert english gramarian and writer.Given a Multiple Choice Question Quiz for {subject} students.You need to evalute the complexity of the question and give a complete analysis of the quiz. if the quiz is not at per with the conitive and analytical abailities of the student update the quiz questions which need to be changes and change the tone such that it perfectly fits ts the students ability.\n",
    "Quiz_MCQs:\n",
    "{quiz}\n",
    "\n",
    "Check from an expert English Writer of the above quiz\n",
    "\"\"\""
   ]
  },
  {
   "cell_type": "code",
   "execution_count": 15,
   "id": "610ad753",
   "metadata": {},
   "outputs": [],
   "source": [
    "quiz_evaluation_prompt = PromptTemplate(\n",
    "    input_variables=[\"quiz\",\"subject\"],\n",
    "    template=TEMPLATE\n",
    ")"
   ]
  },
  {
   "cell_type": "code",
   "execution_count": 16,
   "id": "989e874f",
   "metadata": {},
   "outputs": [],
   "source": [
    "# review_chain = LLMChain(llm=here come vraaible jis mai llm ai haamra, prompt=quiz_evaluation_prompt, output_key=\"review\", verbose=True)"
   ]
  },
  {
   "cell_type": "code",
   "execution_count": 17,
   "id": "1aa8e987",
   "metadata": {},
   "outputs": [],
   "source": [
    "# generate_evaluate_chain = SequentialChain(\n",
    "#     chains=[quiz_generator, quiz_evaluation],\n",
    "#     input_variables=[\"text\", \"number\", \"subject\", \"tone\", \"response_json\"],\n",
    "#     output_variables=[\"quiz\", \"review\"],\n",
    "#     verbose=True\n",
    "# )"
   ]
  },
  {
   "cell_type": "code",
   "execution_count": 19,
   "id": "3652255b",
   "metadata": {},
   "outputs": [],
   "source": [
    "file_path =r\"D:\\MCQ generator\\data.txt\" "
   ]
  },
  {
   "cell_type": "code",
   "execution_count": 20,
   "id": "a6703fee",
   "metadata": {},
   "outputs": [
    {
     "data": {
      "text/plain": [
       "'D:\\\\MCQ generator\\\\data.txt'"
      ]
     },
     "execution_count": 20,
     "metadata": {},
     "output_type": "execute_result"
    }
   ],
   "source": [
    "file_path"
   ]
  },
  {
   "cell_type": "code",
   "execution_count": 22,
   "id": "9bb915d2",
   "metadata": {},
   "outputs": [],
   "source": [
    "# now we will read the data from the file just create that is data.txt and in that file write the text from which you want to generate the quiz.and i have given the data just we have to read the data \n",
    "with open(file_path, \"r\") as file:\n",
    "    data = file.read()\n"
   ]
  },
  {
   "cell_type": "code",
   "execution_count": 24,
   "id": "c83f78a3",
   "metadata": {},
   "outputs": [
    {
     "name": "stdout",
     "output_type": "stream",
     "text": [
      "The term machine learning was coined in 1959 by Arthur Samuel, an IBM employee and pioneer in the field of computer gaming and artificial intelligence.[8][9] The synonym self-teaching computers was also used in this time period.[10][11]\n",
      "\n",
      "The earliest machine learning program was introduced in the 1950s when Arthur Samuel invented a computer program that calculated the winning chance in checkers for each side, but the history of machine learning roots back to decades of human desire and effort to study human cognitive processes.[12] In 1949, Canadian psychologist Donald Hebb published the book The Organization of Behavior, in which he introduced a theoretical neural structure formed by certain interactions among nerve cells.[13] Hebb's model of neurons interacting with one another set a groundwork for how AIs and machine learning algorithms work under nodes, or artificial neurons used by computers to communicate data.[12] Other researchers who have studied human cognitive systems contributed to the modern machine learning technologies as well, including logician Walter Pitts and Warren McCulloch, who proposed the early mathematical models of neural networks to come up with algorithms that mirror human thought processes.[12]\n",
      "\n",
      "By the early 1960s, an experimental \"learning machine\" with punched tape memory, called Cybertron, had been developed by Raytheon Company to analyse sonar signals, electrocardiograms, and speech patterns using rudimentary reinforcement learning. It was repetitively \"trained\" by a human operator/teacher to recognise patterns and equipped with a \"goof\" button to cause it to reevaluate incorrect decisions.[14] A representative book on research into machine learning during the 1960s was Nilsson's book on Learning Machines, dealing mostly with machine learning for pattern classification.[15] Interest related to pattern recognition continued into the 1970s, as described by Duda and Hart in 1973.[16] In 1981 a report was given on using teaching strategies so that an artificial neural network learns to recognise 40 characters (26 letters, 10 digits, and 4 special symbols) from a computer terminal.[17]\n",
      "\n",
      "Tom M. Mitchell provided a widely quoted, more formal definition of the algorithms studied in the machine learning field: \"A computer program is said to learn from experience E with respect to some class of tasks T and performance measure P if its performance at tasks in T, as measured by P, improves with experience E.\"[18] This definition of the tasks in which machine learning is concerned offers a fundamentally operational definition rather than defining the field in cognitive terms. This follows Alan Turing's proposal in his paper \"Computing Machinery and Intelligence\", in which the question \"Can machines think?\" is replaced with the question \"Can machines do what we (as thinking entities) can do?\".[19]\n",
      "\n",
      "Modern-day machine learning has two objectives. One is to classify data based on models which have been developed; the other purpose is to make predictions for future outcomes based on these models. A hypothetical algorithm specific to classifying data may use computer vision of moles coupled with supervised learning in order to train it to classify the cancerous moles. A machine learning algorithm for stock trading may inform the trader of future potential predictions.[20]\n"
     ]
    }
   ],
   "source": [
    "print(data)"
   ]
  },
  {
   "cell_type": "code",
   "execution_count": 27,
   "id": "4f3edbcd",
   "metadata": {},
   "outputs": [],
   "source": [
    "# jo hamnai uper format diya tha ap aus ko jasonformat mai karen ge into jason formatted string by using\n",
    "# json.dumps() function and in bracket response_json \n",
    "# in simple words converting python dictionary to json string"
   ]
  },
  {
   "cell_type": "code",
   "execution_count": 28,
   "id": "802b1820",
   "metadata": {},
   "outputs": [],
   "source": [
    "# NUMBER = 5\n",
    "# SUBJECT = \"MACHINE LEARNING\"\n",
    "# TONE = \"SIMPLE\""
   ]
  },
  {
   "cell_type": "code",
   "execution_count": 29,
   "id": "60666fc8",
   "metadata": {},
   "outputs": [],
   "source": [
    "#How to setup Token Usage Tracking in LangChain\n",
    "# with get_openai_callback() as cb:\n",
    "#     response=generate_evaluate_chain(\n",
    "#         { \n",
    "#             \"text\"=Text YE TU PHELE SAI DEFINE KIYA HOWA HAI KAI  YE DATA HAI JIS SE MCQ BANANE HAIN,  # Text from which to generate MCQs\n",
    "#             \"number\"=NUMBER,  # Number of MCQs to generate\n",
    "#             \"subject\"=SUBJECT\",  # Subject for the MCQs\n",
    "#             \"tone\"=TONE, # Tone of the MCQs\n",
    "#             \"response_json\"=json.dumps(RESPONSE_JSON)  # JSON formatted string for response\n",
    "#         }\n",
    "#     )\n",
    "#GENERATE EVALUTAE CHIAN IS THE VARAIBLE NAME JIS MAI SEQUENIAL CHAINS PARHE HOIE HIAN\n",
    "#if u want to see the about the pricing and tracking of the token usage of the input and output token for that we are using get_openai_callback() and we are using it as a context manager so that we can get the token usage after the execution of the code\n",
    "    # print(f\"Total Tokens Used: {cb.total_tokens}\")\n",
    "# jab hm ais ko run karen ge tu it will generate the repsonse or generate the quiz jitne mange hon gaien ham nai"
   ]
  },
  {
   "cell_type": "code",
   "execution_count": 30,
   "id": "268981d8",
   "metadata": {},
   "outputs": [],
   "source": [
    "# print(f\"Total Tokens Used: {cb.total_tokens}\")\n",
    "# print(f\"Input Tokens Used: {cb.input_tokens}\")\n",
    "# print(f\"Output Tokens Used: {cb.output_tokens}\")\n",
    "# print(f\"Total Cost: ${cb.total_cost:.4f}\")\n",
    "# by using callback we can track all the above thing \n",
    "\n"
   ]
  },
  {
   "cell_type": "code",
   "execution_count": 31,
   "id": "f2a74227",
   "metadata": {},
   "outputs": [],
   "source": [
    "# response \n",
    "# jab ais ko run karen ge tu it will give me key value in this dictionary we will find one key qhich is quiz and by typing response.get(\"quiz\") we will get the quiz generated by the llm and we can print it\n",
    "# print(response.get(\"quiz\")) or by jason.loads(response.get(\"quiz\")) we can convert the json string to python dictionary and then we can access the key value pairs in that dictionary"
   ]
  },
  {
   "cell_type": "code",
   "execution_count": 32,
   "id": "f90729b4",
   "metadata": {},
   "outputs": [],
   "source": [
    "# if i want to convert into dataframe first i will convert the json string to python dictionary and then i will convert that dictionary to dataframe by using pandas.DataFrame() function and convert into csv file by using to_csv() function\n",
    "# df = pd.DataFrame(json.loads(response.get(\"quiz\")))\n"
   ]
  },
  {
   "cell_type": "code",
   "execution_count": 2,
   "id": "56da7850",
   "metadata": {},
   "outputs": [
    {
     "data": {
      "text/plain": [
       "'2025-06-14_20-21-16'"
      ]
     },
     "execution_count": 2,
     "metadata": {},
     "output_type": "execute_result"
    }
   ],
   "source": [
    "from datetime import datetime\n",
    "datetime.now().strftime(\"%Y-%m-%d_%H-%M-%S\")"
   ]
  },
  {
   "cell_type": "code",
   "execution_count": null,
   "id": "dab187b4",
   "metadata": {},
   "outputs": [],
   "source": []
  }
 ],
 "metadata": {
  "kernelspec": {
   "display_name": "Python 3",
   "language": "python",
   "name": "python3"
  },
  "language_info": {
   "codemirror_mode": {
    "name": "ipython",
    "version": 3
   },
   "file_extension": ".py",
   "mimetype": "text/x-python",
   "name": "python",
   "nbconvert_exporter": "python",
   "pygments_lexer": "ipython3",
   "version": "3.11.13"
  }
 },
 "nbformat": 4,
 "nbformat_minor": 5
}
