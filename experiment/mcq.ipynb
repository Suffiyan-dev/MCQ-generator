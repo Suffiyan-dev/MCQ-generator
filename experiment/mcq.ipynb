{
 "cells": [
  {
   "cell_type": "code",
   "execution_count": 1,
   "id": "c9f55a1f",
   "metadata": {},
   "outputs": [],
   "source": [
    "import os\n",
    "import json\n",
    "import pandas as pd\n",
    "import traceback"
   ]
  },
  {
   "cell_type": "code",
   "execution_count": null,
   "id": "dde9ad1f",
   "metadata": {},
   "outputs": [],
   "source": [
    "from langchain.chat_models import ChatOpenAI\n"
   ]
  },
  {
   "cell_type": "code",
   "execution_count": 5,
   "id": "8e5a2b41",
   "metadata": {},
   "outputs": [
    {
     "data": {
      "text/plain": [
       "True"
      ]
     },
     "execution_count": 5,
     "metadata": {},
     "output_type": "execute_result"
    }
   ],
   "source": [
    "from dotenv import load_dotenv\n",
    "load_dotenv()"
   ]
  },
  {
   "cell_type": "code",
   "execution_count": null,
   "id": "33f875a0",
   "metadata": {},
   "outputs": [],
   "source": [
    "# bhai tu scene ye hai first method to get the key is kai ap nia apne enivorment varaible me set kar de key kai name sai and os.getenv('OPENAI_API_KEY') use kar le and we will get the key 2nd method is that i use terminal to set or export the key and the command for that is export OPENAI_API_KEY and then the key and u can use it then and 3rd method is i can make a file called .env and in that file i can write the key like this OPENAI_API_KEY=your_key_here and then i can use python-dotenv to load that file and get the key "
   ]
  },
  {
   "cell_type": "code",
   "execution_count": 4,
   "id": "920250e0",
   "metadata": {},
   "outputs": [],
   "source": [
    "# llm = ChatOpenAI(openai_api_key=os.getenv(\"OPENAI_API_KEY\"), model=\"gpt-3.5-turbo\", temperature=0.5)\n",
    "# yhn openai api key meray pass hai nahi bcz it is not free thus what i doing i am writting this code in comment format so that i know the syntax of this code and i can use it later when i have the key "
   ]
  },
  {
   "cell_type": "code",
   "execution_count": null,
   "id": "8f0a8df3",
   "metadata": {},
   "outputs": [],
   "source": []
  }
 ],
 "metadata": {
  "kernelspec": {
   "display_name": "Python 3",
   "language": "python",
   "name": "python3"
  },
  "language_info": {
   "codemirror_mode": {
    "name": "ipython",
    "version": 3
   },
   "file_extension": ".py",
   "mimetype": "text/x-python",
   "name": "python",
   "nbconvert_exporter": "python",
   "pygments_lexer": "ipython3",
   "version": "3.11.13"
  }
 },
 "nbformat": 4,
 "nbformat_minor": 5
}
